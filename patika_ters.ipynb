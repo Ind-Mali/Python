{
 "cells": [
  {
   "cell_type": "code",
   "execution_count": 1,
   "metadata": {},
   "outputs": [],
   "source": [
    "def reversed (lıst):\n",
    "    \n",
    "    for i in range(len(lıst)):\n",
    "        if type(lıst[i]) == list :\n",
    "            lıst[i] = lıst[i][::-1]\n",
    "            reversed(lıst[i])\n",
    "    \n",
    "    return (lıst[::-1])\n",
    "lıst = [[1, 2], [\"a\", 4], [5, \"b\", 7],[\"c\",\"d\",\"e\",9]]"
   ]
  },
  {
   "cell_type": "code",
   "execution_count": 2,
   "metadata": {},
   "outputs": [
    {
     "data": {
      "text/plain": [
       "[[9, 'e', 'd', 'c'], [7, 'b', 5], [4, 'a'], [2, 1]]"
      ]
     },
     "execution_count": 2,
     "metadata": {},
     "output_type": "execute_result"
    }
   ],
   "source": [
    "reversed(lıst)"
   ]
  }
 ],
 "metadata": {
  "kernelspec": {
   "display_name": "Python 3",
   "language": "python",
   "name": "python3"
  },
  "language_info": {
   "codemirror_mode": {
    "name": "ipython",
    "version": 3
   },
   "file_extension": ".py",
   "mimetype": "text/x-python",
   "name": "python",
   "nbconvert_exporter": "python",
   "pygments_lexer": "ipython3",
   "version": "3.8.5"
  }
 },
 "nbformat": 4,
 "nbformat_minor": 4
}
